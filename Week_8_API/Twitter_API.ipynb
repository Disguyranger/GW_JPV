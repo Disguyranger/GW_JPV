{
 "cells": [
  {
   "cell_type": "code",
   "execution_count": null,
   "metadata": {},
   "outputs": [],
   "source": [
    "###My code"
   ]
  },
  {
   "cell_type": "code",
   "execution_count": 4,
   "metadata": {},
   "outputs": [
    {
     "name": "stdout",
     "output_type": "stream",
     "text": [
      "Collecting tweepy\n",
      "  Using cached tweepy-3.8.0-py2.py3-none-any.whl (28 kB)\n",
      "Collecting requests-oauthlib>=0.7.0\n",
      "  Using cached requests_oauthlib-1.3.0-py2.py3-none-any.whl (23 kB)\n",
      "Requirement already satisfied: requests>=2.11.1 in c:\\users\\disgu\\anaconda3\\lib\\site-packages (from tweepy) (2.22.0)\n",
      "Requirement already satisfied: PySocks>=1.5.7 in c:\\users\\disgu\\anaconda3\\lib\\site-packages (from tweepy) (1.7.1)\n",
      "Requirement already satisfied: six>=1.10.0 in c:\\users\\disgu\\anaconda3\\lib\\site-packages (from tweepy) (1.14.0)\n",
      "Collecting oauthlib>=3.0.0\n",
      "  Using cached oauthlib-3.1.0-py2.py3-none-any.whl (147 kB)\n",
      "Requirement already satisfied: urllib3!=1.25.0,!=1.25.1,<1.26,>=1.21.1 in c:\\users\\disgu\\anaconda3\\lib\\site-packages (from requests>=2.11.1->tweepy) (1.25.8)\n",
      "Requirement already satisfied: chardet<3.1.0,>=3.0.2 in c:\\users\\disgu\\anaconda3\\lib\\site-packages (from requests>=2.11.1->tweepy) (3.0.4)\n",
      "Requirement already satisfied: certifi>=2017.4.17 in c:\\users\\disgu\\anaconda3\\lib\\site-packages (from requests>=2.11.1->tweepy) (2019.11.28)\n",
      "Requirement already satisfied: idna<2.9,>=2.5 in c:\\users\\disgu\\anaconda3\\lib\\site-packages (from requests>=2.11.1->tweepy) (2.8)\n",
      "Installing collected packages: oauthlib, requests-oauthlib, tweepy\n",
      "Successfully installed oauthlib-3.1.0 requests-oauthlib-1.3.0 tweepy-3.8.0\n",
      "Collecting vaderSentiment\n",
      "  Downloading vaderSentiment-3.3.2-py2.py3-none-any.whl (125 kB)\n",
      "Requirement already satisfied: requests in c:\\users\\disgu\\anaconda3\\lib\\site-packages (from vaderSentiment) (2.22.0)\n",
      "Requirement already satisfied: certifi>=2017.4.17 in c:\\users\\disgu\\anaconda3\\lib\\site-packages (from requests->vaderSentiment) (2019.11.28)\n",
      "Requirement already satisfied: chardet<3.1.0,>=3.0.2 in c:\\users\\disgu\\anaconda3\\lib\\site-packages (from requests->vaderSentiment) (3.0.4)\n",
      "Requirement already satisfied: idna<2.9,>=2.5 in c:\\users\\disgu\\anaconda3\\lib\\site-packages (from requests->vaderSentiment) (2.8)\n",
      "Requirement already satisfied: urllib3!=1.25.0,!=1.25.1,<1.26,>=1.21.1 in c:\\users\\disgu\\anaconda3\\lib\\site-packages (from requests->vaderSentiment) (1.25.8)\n",
      "Installing collected packages: vaderSentiment\n",
      "Successfully installed vaderSentiment-3.3.2\n"
     ]
    }
   ],
   "source": [
    "#!pip install tweepy\n",
    "#!pip install vaderSentiment\n",
    "import pandas as pd\n",
    "import matplotlib.pyplot as plt\n",
    "from vaderSentiment.vaderSentiment import SentimentIntensityAnalyzer\n",
    "import os, sys, csv, json, tweepy\n",
    "api_key ='5DfilgI3A2nNjjeZASJotNIRi'\n",
    "api_secret = '6qR1b64LiUaajiatBaLY1xqGCk6Ttm8jrT11IJX5LT1rQ6z0Su'\n",
    "access_token = '764057586-jYqHwQWKHKnpFcUDk8hC0ANE5GZ2LHFySi6BI4ro'\n",
    "atsecret = 'NHOcv4sBElK0d1fy56ySi97MnHQTsbZu4MPMGETNRHwjJ'\n",
    "analyzer = SentimentIntensityAnalyzer()"
   ]
  },
  {
   "cell_type": "code",
   "execution_count": 2,
   "metadata": {},
   "outputs": [],
   "source": [
    "auth = tweepy.OAuthHandler(api_key, api_secret)\n",
    "auth.set_access_token(access_token, atsecret)\n",
    "api = tweepy.API(auth)"
   ]
  },
  {
   "cell_type": "code",
   "execution_count": 3,
   "metadata": {},
   "outputs": [],
   "source": [
    "def tweets(group):\n",
    "    tweets = []\n",
    "    name = []\n",
    "    created_at = []\n",
    "    full_text = []\n",
    "    vader_sent = []\n",
    "    \n",
    "    for tweet in tweepy.Cursor(api.user_timeline, group, tweet_mode='extended').items(100):\n",
    "        tweets.append(tweet)\n",
    "    for t in tweets:\n",
    "        name.append(group)\n",
    "        created_at.append(t.created_at)\n",
    "        full_text.append(t.full_text)\n",
    "        vader_sent.append(analyzer.polarity_scores(t.full_text))\n",
    "        \n",
    "    return(name, created_at, full_text, vader_sent)\n",
    "def checkSentiment(vader):\n",
    "    negative = []\n",
    "    neutral = [] \n",
    "    positive = []\n",
    "    compound = []\n",
    "\n",
    "    for sentiment in vader:\n",
    "        negative.append(sentiment['neg'])\n",
    "        neutral.append(sentiment['neu'])\n",
    "        positive.append(sentiment['pos'])\n",
    "        compound.append(sentiment['compound'])\n",
    "    return(negative, neutral, positive, compound)\n",
    "def dataFrame(name, created_at, full_text, vader_sent, nega, neut, pos, comp):\n",
    "    tweets_df = pd.DataFrame({\n",
    "    'Organization': name,\n",
    "    'Tweet Time': created_at,\n",
    "    'Tweet Text': full_text,\n",
    "    'Positive Points': pos,\n",
    "    'Neutral Points': neut,\n",
    "    'Negative Points': nega,\n",
    "    'Compound': comp,\n",
    "    })\n",
    "    return(tweets_df)\n",
    "def boxAndScatterPlot(dataFrame_storage, bar):\n",
    "    df = dataFrame_storage\n",
    "    #df = df.groupby(['Organization'])\n",
    "    if bar == 'bar':\n",
    "        ax = df.plot.bar(x='Organization', y='Compound', colormap = 'viridis')\n",
    "    else:\n",
    "        ax = df.plot.scatter(x='Organization', y='Compound', colormap = 'viridis')\n",
    "    \n",
    "    try:\n",
    "        os.remove(f'{bar}.png')\n",
    "        print('Found copy: Removed')\n",
    "        plt.savefig(f'{bar}.png')\n",
    "    except:\n",
    "        print('Creating png')\n",
    "        plt.savefig(f'{bar}.png')\n",
    "    "
   ]
  },
  {
   "cell_type": "code",
   "execution_count": 4,
   "metadata": {},
   "outputs": [
    {
     "name": "stdout",
     "output_type": "stream",
     "text": [
      "Creating png\n",
      "Creating png\n"
     ]
    },
    {
     "data": {
      "image/png": "[encoded data removed]",
      "text/plain": [
       "<Figure size 432x288 with 1 Axes>"
      ]
     },
     "metadata": {
      "needs_background": "light"
     },
     "output_type": "display_data"
    },
    {
     "data": {
      "image/png": "[encoded data removed]",
      "text/plain": [
       "<Figure size 432x288 with 2 Axes>"
      ]
     },
     "metadata": {
      "needs_background": "light"
     },
     "output_type": "display_data"
    }
   ],
   "source": [
    "def main():\n",
    "    listToGoThrough = ['BBC', 'CBS', 'CNN', 'Fox', 'The New York Times']\n",
    "    dataFrame_storage = []\n",
    "    for group in listToGoThrough:\n",
    "        name, created_at, full_text, vader_sent = tweets(group)\n",
    "        nega, neut, pos, comp = checkSentiment(vader_sent)\n",
    "        tweetsDataFrame = dataFrame(name, created_at, full_text, vader_sent,\n",
    "                                    nega, neut, pos, comp)\n",
    "        if group == 'BBC':\n",
    "            dataFrame_storage = tweetsDataFrame\n",
    "        dataFrame_storage = dataFrame_storage.append(tweetsDataFrame)\n",
    "    x = ['bar', 'scatter']\n",
    "    for bar in x:\n",
    "        boxAndScatterPlot(dataFrame_storage, bar)\n",
    "        \n",
    "main()"
   ]
  },
  {
   "cell_type": "code",
   "execution_count": 1,
   "metadata": {},
   "outputs": [],
   "source": [
    "### DID NOT COME OUT HOW I WANTED..."
   ]
  },
  {
   "cell_type": "code",
   "execution_count": 6,
   "metadata": {},
   "outputs": [
    {
     "ename": "ModuleNotFoundError",
     "evalue": "No module named 'textblob'",
     "output_type": "error",
     "traceback": [
      "\u001b[1;31m---------------------------------------------------------------------------\u001b[0m",
      "\u001b[1;31mModuleNotFoundError\u001b[0m                       Traceback (most recent call last)",
      "\u001b[1;32m<ipython-input-6-1c29b9d54dd0>\u001b[0m in \u001b[0;36m<module>\u001b[1;34m\u001b[0m\n\u001b[0;32m     17\u001b[0m \u001b[1;33m\u001b[0m\u001b[0m\n\u001b[0;32m     18\u001b[0m \u001b[1;31m# Initialize Sentiment Analyzer\u001b[0m\u001b[1;33m\u001b[0m\u001b[1;33m\u001b[0m\u001b[1;33m\u001b[0m\u001b[0m\n\u001b[1;32m---> 19\u001b[1;33m \u001b[1;32mfrom\u001b[0m \u001b[0mtextblob\u001b[0m \u001b[1;32mimport\u001b[0m \u001b[0mTextBlob\u001b[0m\u001b[1;33m\u001b[0m\u001b[1;33m\u001b[0m\u001b[0m\n\u001b[0m\u001b[0;32m     20\u001b[0m \u001b[1;32mfrom\u001b[0m \u001b[0mvaderSentiment\u001b[0m\u001b[1;33m.\u001b[0m\u001b[0mvaderSentiment\u001b[0m \u001b[1;32mimport\u001b[0m \u001b[0mSentimentIntensityAnalyzer\u001b[0m\u001b[1;33m\u001b[0m\u001b[1;33m\u001b[0m\u001b[0m\n\u001b[0;32m     21\u001b[0m \u001b[0manalyzer\u001b[0m \u001b[1;33m=\u001b[0m \u001b[0mSentimentIntensityAnalyzer\u001b[0m\u001b[1;33m(\u001b[0m\u001b[1;33m)\u001b[0m\u001b[1;33m\u001b[0m\u001b[1;33m\u001b[0m\u001b[0m\n",
      "\u001b[1;31mModuleNotFoundError\u001b[0m: No module named 'textblob'"
     ]
    }
   ],
   "source": [
    "# Dependencies\n",
    "%matplotlib inline\n",
    "import numpy as np\n",
    "import pandas as pd\n",
    "import matplotlib.pyplot as plt\n",
    "import json\n",
    "import tweepy\n",
    "import time\n",
    "import warnings\n",
    "warnings.filterwarnings(\"ignore\")\n",
    "\n",
    "# API keys\n",
    "import api_keys\n",
    "\n",
    "# Initialize Sentiment Analyzer \n",
    "from textblob import TextBlob\n",
    "from vaderSentiment.vaderSentiment import SentimentIntensityAnalyzer\n",
    "analyzer = SentimentIntensityAnalyzer()\n",
    "\n",
    "# Twitter API Keys\n",
    "consumer_key = api_keys.consumer_key\n",
    "consumer_secret = api_keys.consumer_secret\n",
    "access_token = api_keys.access_token\n",
    "access_token_secret = api_keys.access_token_secret\n",
    " # Setup Tweepy API Authentication\n",
    "auth = tweepy.OAuthHandler(consumer_key, consumer_secret)\n",
    "auth.set_access_token(access_token, access_token_secret)\n",
    "api = tweepy.API(auth, parser=tweepy.parsers.JSONParser())\n",
    "\n",
    "# Select News Sources (Twitter Accounts)\n",
    "news_source = [\"FoxNews\", \"CNN\", \"BBCWorld\", \"CBSNews\", \"nytimes\"]\n",
    "\n",
    "\n",
    " # Create a generic dictionary for holding all tweet information\n",
    "tweet_data = {\n",
    "    \"tweet_source\": [],\n",
    "    \"tweet_text\": [],\n",
    "    \"tweet_date\": [],\n",
    "    \"tweet_vader_score\": [],\n",
    "    \"tweet_neg_score\": [],\n",
    "    \"tweet_pos_score\": [],\n",
    "    \"tweet_neu_score\": []\n",
    "}\n",
    "\n",
    "# Grab 100 tweets from each site (total 500)\n",
    "for x in range(5):\n",
    "\n",
    "    # Loop through all news sources\n",
    "    for source in news_source:\n",
    "\n",
    "        # Grab the tweets\n",
    "        tweets = api.user_timeline(source, page=x)\n",
    "\n",
    "        # For each tweet store it into the dictionary\n",
    "        for tweet in tweets:\n",
    "            \n",
    "            # All data is grabbed from the JSON returned by Twitter\n",
    "            tweet_data[\"tweet_source\"].append(tweet[\"user\"][\"name\"])\n",
    "            tweet_data[\"tweet_text\"].append(tweet[\"text\"])\n",
    "            tweet_data[\"tweet_date\"].append(tweet[\"created_at\"])\n",
    "\n",
    "            # Run sentiment analysis on each tweet using Vader\n",
    "            tweet_data[\"tweet_vader_score\"].append(analyzer.polarity_scores(tweet[\"text\"])[\"compound\"])\n",
    "            tweet_data[\"tweet_pos_score\"].append(analyzer.polarity_scores(tweet[\"text\"])[\"pos\"])\n",
    "            tweet_data[\"tweet_neu_score\"].append(analyzer.polarity_scores(tweet[\"text\"])[\"neu\"])\n",
    "            tweet_data[\"tweet_neg_score\"].append(analyzer.polarity_scores(tweet[\"text\"])[\"neg\"])\n",
    "            \n",
    "# Store the final contents into a DataFrame\n",
    "tweet_df = pd.DataFrame(tweet_data, columns=[\"tweet_source\", \n",
    "                                             \"tweet_text\", \n",
    "                                             \"tweet_date\",\n",
    "                                             \"tweet_vader_score\",\n",
    "                                             \"tweet_pos_score\",\n",
    "                                             \"tweet_neu_score\",\n",
    "                                             \"tweet_neg_score\"])\n",
    "\n",
    "# Export to CSV\n",
    "file_name = str(time.strftime(\"%m-%d-%y\")) + \"-tweets.csv\"\n",
    "tweet_df.to_csv(\"analysis/\" + file_name, encoding=\"utf-8\")\n",
    "\n",
    "# Visualize the DataFrame\n",
    "tweet_df.head()            \n"
   ]
  },
  {
   "cell_type": "code",
   "execution_count": 7,
   "metadata": {},
   "outputs": [
    {
     "ename": "NameError",
     "evalue": "name 'tweet_df' is not defined",
     "output_type": "error",
     "traceback": [
      "\u001b[1;31m---------------------------------------------------------------------------\u001b[0m",
      "\u001b[1;31mNameError\u001b[0m                                 Traceback (most recent call last)",
      "\u001b[1;32m<ipython-input-7-33ee93973da2>\u001b[0m in \u001b[0;36m<module>\u001b[1;34m\u001b[0m\n\u001b[1;32m----> 1\u001b[1;33m \u001b[0mtweet_df\u001b[0m\u001b[1;33m.\u001b[0m\u001b[0mcount\u001b[0m\u001b[1;33m(\u001b[0m\u001b[1;33m)\u001b[0m\u001b[1;33m\u001b[0m\u001b[1;33m\u001b[0m\u001b[0m\n\u001b[0m",
      "\u001b[1;31mNameError\u001b[0m: name 'tweet_df' is not defined"
     ]
    }
   ],
   "source": [
    "tweet_df.count()"
   ]
  },
  {
   "cell_type": "code",
   "execution_count": 8,
   "metadata": {},
   "outputs": [
    {
     "ename": "NameError",
     "evalue": "name 'tweet_df' is not defined",
     "output_type": "error",
     "traceback": [
      "\u001b[1;31m---------------------------------------------------------------------------\u001b[0m",
      "\u001b[1;31mNameError\u001b[0m                                 Traceback (most recent call last)",
      "\u001b[1;32m<ipython-input-8-6f614a0ff168>\u001b[0m in \u001b[0;36m<module>\u001b[1;34m\u001b[0m\n\u001b[1;32m----> 1\u001b[1;33m plt.scatter(np.arange(-len(tweet_df[tweet_df[\"tweet_source\"] == \"BBC News (World)\"]), 0, 1), \n\u001b[0m\u001b[0;32m      2\u001b[0m             \u001b[0mtweet_df\u001b[0m\u001b[1;33m[\u001b[0m\u001b[0mtweet_df\u001b[0m\u001b[1;33m[\u001b[0m\u001b[1;34m\"tweet_source\"\u001b[0m\u001b[1;33m]\u001b[0m \u001b[1;33m==\u001b[0m \u001b[1;34m\"BBC News (World)\"\u001b[0m\u001b[1;33m]\u001b[0m\u001b[1;33m[\u001b[0m\u001b[1;34m\"tweet_vader_score\"\u001b[0m\u001b[1;33m]\u001b[0m\u001b[1;33m,\u001b[0m\u001b[1;33m\u001b[0m\u001b[1;33m\u001b[0m\u001b[0m\n\u001b[0;32m      3\u001b[0m             \u001b[0medgecolor\u001b[0m\u001b[1;33m=\u001b[0m\u001b[1;34m\"black\"\u001b[0m\u001b[1;33m,\u001b[0m \u001b[0mlinewidths\u001b[0m\u001b[1;33m=\u001b[0m\u001b[1;36m1\u001b[0m\u001b[1;33m,\u001b[0m \u001b[0mmarker\u001b[0m\u001b[1;33m=\u001b[0m\u001b[1;34m\"o\"\u001b[0m\u001b[1;33m,\u001b[0m \u001b[0mcolor\u001b[0m\u001b[1;33m=\u001b[0m\u001b[1;34m\"skyblue\"\u001b[0m\u001b[1;33m,\u001b[0m \u001b[0ms\u001b[0m\u001b[1;33m=\u001b[0m\u001b[1;36m75\u001b[0m\u001b[1;33m,\u001b[0m\u001b[1;33m\u001b[0m\u001b[1;33m\u001b[0m\u001b[0m\n\u001b[0;32m      4\u001b[0m             alpha=0.8, label=\"BBC\")\n\u001b[0;32m      5\u001b[0m \u001b[1;33m\u001b[0m\u001b[0m\n",
      "\u001b[1;31mNameError\u001b[0m: name 'tweet_df' is not defined"
     ]
    }
   ],
   "source": [
    "plt.scatter(np.arange(-len(tweet_df[tweet_df[\"tweet_source\"] == \"BBC News (World)\"]), 0, 1), \n",
    "            tweet_df[tweet_df[\"tweet_source\"] == \"BBC News (World)\"][\"tweet_vader_score\"],\n",
    "            edgecolor=\"black\", linewidths=1, marker=\"o\", color=\"skyblue\", s=75,\n",
    "            alpha=0.8, label=\"BBC\")\n",
    "\n",
    "plt.scatter(np.arange(-len(tweet_df[tweet_df[\"tweet_source\"] == \"CBS News\"]), 0, 1), \n",
    "            tweet_df[tweet_df[\"tweet_source\"] == \"CBS News\"][\"tweet_vader_score\"],\n",
    "            edgecolor=\"black\", linewidths=1, marker=\"o\", color=\"green\", s=75,\n",
    "            alpha=0.8, label=\"CBS\")\n",
    "\n",
    "plt.scatter(np.arange(-len(tweet_df[tweet_df[\"tweet_source\"] == \"CNN\"]), 0, 1), \n",
    "            tweet_df[tweet_df[\"tweet_source\"] == \"CNN\"][\"tweet_vader_score\"],\n",
    "            edgecolor=\"black\", linewidths=1, marker=\"o\", color=\"red\", s=75,\n",
    "            alpha=0.8, label=\"CNN\")\n",
    "\n",
    "plt.scatter(np.arange(-len(tweet_df[tweet_df[\"tweet_source\"] == \"Fox News\"]), 0, 1), \n",
    "            tweet_df[tweet_df[\"tweet_source\"] == \"Fox News\"][\"tweet_vader_score\"],\n",
    "            edgecolor=\"black\", linewidths=1, marker=\"o\", color=\"b\", s=75,\n",
    "            alpha=0.8, label=\"Fox\")\n",
    "\n",
    "plt.scatter(np.arange(-len(tweet_df[tweet_df[\"tweet_source\"] == \"The New York Times\"]), 0, 1), \n",
    "            tweet_df[tweet_df[\"tweet_source\"] == \"The New York Times\"][\"tweet_vader_score\"],\n",
    "            edgecolor=\"black\", linewidths=1, marker=\"o\", color=\"gold\", s=75,\n",
    "            alpha=0.8, label=\"New York Times\")\n",
    "\n",
    "# Incorporate the other graph properties\n",
    "plt.title(\"Sentiment Analysis of Media Tweets (%s)\" % time.strftime(\"%x\"))\n",
    "plt.ylabel(\"Tweet Polarity\")\n",
    "plt.xlabel(\"Tweets Ago\")\n",
    "plt.xlim([-105, 5])\n",
    "plt.xticks([-100, -80, -60, -40, -20, 0], [100, 80, 60, 40, 20, 0])\n",
    "plt.ylim([-1.05, 1.05])\n",
    "plt.grid(True)\n",
    "\n",
    "# Create a legend\n",
    "lgnd = plt.legend(fontsize=\"small\", mode=\"Expanded\", \n",
    "                  numpoints=1, scatterpoints=1, \n",
    "                  loc=\"upper left\", bbox_to_anchor=(1,1), title=\"Media Sources\", \n",
    "                  labelspacing=0.5)\n",
    "\n",
    "# Save the figure (and account for the legend being outside the plot when saving)\n",
    "file_name = str(time.strftime(\"%m-%d-%y\")) + \"-Fig1.png\"\n",
    "plt.savefig(\"analysis/\" + file_name, bbox_extra_artists=(lgnd, ), bbox_inches='tight')\n",
    "\n",
    "# Show plot\n",
    "plt.show()"
   ]
  },
  {
   "cell_type": "code",
   "execution_count": 9,
   "metadata": {},
   "outputs": [
    {
     "ename": "NameError",
     "evalue": "name 'tweet_df' is not defined",
     "output_type": "error",
     "traceback": [
      "\u001b[1;31m---------------------------------------------------------------------------\u001b[0m",
      "\u001b[1;31mNameError\u001b[0m                                 Traceback (most recent call last)",
      "\u001b[1;32m<ipython-input-9-1a7efb5e2b6b>\u001b[0m in \u001b[0;36m<module>\u001b[1;34m\u001b[0m\n\u001b[0;32m      1\u001b[0m \u001b[1;31m# Average all polarities by news source\u001b[0m\u001b[1;33m\u001b[0m\u001b[1;33m\u001b[0m\u001b[1;33m\u001b[0m\u001b[0m\n\u001b[1;32m----> 2\u001b[1;33m \u001b[0mtweet_df_polarity\u001b[0m \u001b[1;33m=\u001b[0m \u001b[0mtweet_df\u001b[0m\u001b[1;33m.\u001b[0m\u001b[0mgroupby\u001b[0m\u001b[1;33m(\u001b[0m\u001b[1;33m[\u001b[0m\u001b[1;34m\"tweet_source\"\u001b[0m\u001b[1;33m]\u001b[0m\u001b[1;33m)\u001b[0m\u001b[1;33m.\u001b[0m\u001b[0mmean\u001b[0m\u001b[1;33m(\u001b[0m\u001b[1;33m)\u001b[0m\u001b[1;33m[\u001b[0m\u001b[1;34m\"tweet_vader_score\"\u001b[0m\u001b[1;33m]\u001b[0m\u001b[1;33m\u001b[0m\u001b[1;33m\u001b[0m\u001b[0m\n\u001b[0m\u001b[0;32m      3\u001b[0m \u001b[1;33m\u001b[0m\u001b[0m\n\u001b[0;32m      4\u001b[0m \u001b[1;31m# View the polarities\u001b[0m\u001b[1;33m\u001b[0m\u001b[1;33m\u001b[0m\u001b[1;33m\u001b[0m\u001b[0m\n\u001b[0;32m      5\u001b[0m \u001b[0mpd\u001b[0m\u001b[1;33m.\u001b[0m\u001b[0mDataFrame\u001b[0m\u001b[1;33m(\u001b[0m\u001b[0mtweet_df_polarity\u001b[0m\u001b[1;33m)\u001b[0m\u001b[1;33m\u001b[0m\u001b[1;33m\u001b[0m\u001b[0m\n",
      "\u001b[1;31mNameError\u001b[0m: name 'tweet_df' is not defined"
     ]
    }
   ],
   "source": [
    "# Average all polarities by news source\n",
    "tweet_df_polarity = tweet_df.groupby([\"tweet_source\"]).mean()[\"tweet_vader_score\"]\n",
    "\n",
    "# View the polarities\n",
    "pd.DataFrame(tweet_df_polarity)"
   ]
  },
  {
   "cell_type": "code",
   "execution_count": null,
   "metadata": {},
   "outputs": [],
   "source": [
    "# Store all polarities in a tuple\n",
    "tweets_polarity = (tweet_df_polarity[\"BBC News (World)\"], \n",
    "                    tweet_df_polarity[\"CBS News\"], \n",
    "                    tweet_df_polarity[\"CNN\"], \n",
    "                    tweet_df_polarity[\"Fox News\"],\n",
    "                    tweet_df_polarity[\"The New York Times\"])\n",
    "\n",
    "# Generate bars for each news source\n",
    "fig, ax = plt.subplots()\n",
    "ind = np.arange(len(tweets_polarity))  \n",
    "width = 1\n",
    "rect1 = ax.bar(ind[0], tweets_polarity[0], width, color=\"skyblue\")\n",
    "rect2 = ax.bar(ind[1], tweets_polarity[1], width, color=\"green\")\n",
    "rect3 = ax.bar(ind[2], tweets_polarity[2], width, color=\"red\")\n",
    "rect4 = ax.bar(ind[3], tweets_polarity[3], width, color='blue')\n",
    "rect5 = ax.bar(ind[4], tweets_polarity[4], width, color='gold')\n",
    "\n",
    "# Generate labels for each news source\n",
    "def autolabelpos(rects):\n",
    "    # attach some text labels\n",
    "    for rect in rects:\n",
    "        height = rect.get_height()\n",
    "        ax.text(rect.get_x() + rect.get_width()/2., 1*height,\n",
    "                '+%.2f' % float(height),\n",
    "                ha='center', va='bottom')\n",
    "\n",
    "def autolabelneg(rects):\n",
    "    # attach some text labels\n",
    "    for rect in rects:\n",
    "        height = rect.get_height()\n",
    "        ax.text(rect.get_x() + rect.get_width()/2., -1*height-0.015,\n",
    "                '-%.2f' % float(height),\n",
    "                ha='center', va='bottom')\n",
    "    \n",
    "autolabelpos(rect1)\n",
    "autolabelneg(rect2)\n",
    "autolabelneg(rect3)\n",
    "autolabelpos(rect4)\n",
    "autolabelneg(rect5)\n",
    "\n",
    "# Orient widths, add labels, tick marks, etc. \n",
    "ax.set_ylabel(\"Tweet Polarity\")\n",
    "ax.set_title(\"Overall Media Sentiment based on Twitter (%s) \" % (time.strftime(\"%x\")))\n",
    "ax.set_xticks(ind + 0.5)\n",
    "ax.set_xticklabels((\"BBC\", \"CBS\", \"CNN\", \"Fox\", \"NYT\"))\n",
    "ax.set_autoscaley_on(True)\n",
    "ax.grid(False)\n",
    "\n",
    "# Save Figure\n",
    "file_name = str(time.strftime(\"%m-%d-%y\")) + \"-Fig2.png\"\n",
    "plt.savefig(\"analysis/\" + file_name, bbox_extra_artists=(lgnd, ), bbox_inches='tight')\n",
    "\n",
    "# Show Figure\n",
    "fig.show()"
   ]
  }
 ],
 "metadata": {
  "kernelspec": {
   "display_name": "Python 3",
   "language": "python",
   "name": "python3"
  },
  "language_info": {
   "codemirror_mode": {
    "name": "ipython",
    "version": 3
   },
   "file_extension": ".py",
   "mimetype": "text/x-python",
   "name": "python",
   "nbconvert_exporter": "python",
   "pygments_lexer": "ipython3",
   "version": "3.7.6"
  }
 },
 "nbformat": 4,
 "nbformat_minor": 4
}
