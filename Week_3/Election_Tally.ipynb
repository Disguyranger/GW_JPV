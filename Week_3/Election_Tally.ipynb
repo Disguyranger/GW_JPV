{
 "cells": [
  {
   "cell_type": "markdown",
   "metadata": {},
   "source": [
    "This is for the homework. \n",
    "Inside the python-challenge folder"
   ]
  },
  {
   "cell_type": "code",
   "execution_count": 1,
   "metadata": {},
   "outputs": [],
   "source": [
    "\n",
    "\"\"\"\n",
    "Created on Fri Apr 10 01:19:04 2020\n",
    "\n",
    "@author: disguy\n",
    "\"\"\"\n",
    "import time, sys, os"
   ]
  },
  {
   "cell_type": "markdown",
   "metadata": {},
   "source": [
    "<font color = green> The function greatestGainAndLoss will take in inputPath as its parameter \n",
    "    ('Resources', 'budget_data.csv')</font>\n",
    "    \n",
    "<font color = blue>Using variables/dictionaries to keep information as needed.</font>\n",
    "\n",
    "Use with statement to open file as (f),skip first iteration with next statement.\n",
    "\n",
    "Use for loop that scans the entirety of the file (f, should be on row 2, since we skipped first iteration.)\n",
    "\n",
    "Add to the totalMonths, then run the split function, splitting at the comma.\n",
    "\n",
    "Check to see if previousRow has a value, if not, make it have a value, then skip the rest of the code."
   ]
  },
  {
   "cell_type": "code",
   "execution_count": 2,
   "metadata": {},
   "outputs": [],
   "source": [
    "def votesCounter(inputPath):\n",
    "    totalVotes = 0\n",
    "    totalVotesKhan = 0\n",
    "    totalVotesCorrey = 0\n",
    "    totalVotesLi = 0\n",
    "    totalVotesTooley = 0\n",
    "    winner = ''\n",
    "    # counter = 0\n",
    "    with open(inputPath, 'r') as f:\n",
    "        next(f)\n",
    "        \n",
    "        for row in f:\n",
    "            \n",
    "            \n",
    "            totalVotes += 1\n",
    "            row = row.rstrip('\\n').split(\",\")\n",
    "            \n",
    "            if row[2] == 'Khan':\n",
    "                totalVotesKhan += 1\n",
    "            elif str(row[2]) == 'Correy':\n",
    "                totalVotesCorrey += 1\n",
    "            elif str(row[2]) == 'Li':\n",
    "                totalVotesLi += 1\n",
    "            elif str(row[2]) == \"O'Tooley\":\n",
    "                totalVotesTooley += 1\n",
    "            else:\n",
    "                continue\n",
    "        if totalVotesKhan > totalVotesCorrey and totalVotesKhan > totalVotesLi and totalVotesKhan > totalVotesTooley:\n",
    "            winner = 'Khan'\n",
    "            \n",
    "        elif totalVotesCorrey > totalVotesKhan and totalVotesCorrey > totalVotesLi and totalVotesCorrey > totalVotesTooley:\n",
    "            winner = 'Correy'\n",
    "        elif totalVotesLi > totalVotesKhan and totalVotesLi > totalVotesCorrey and totalVotesLi > totalVotesTooley: \n",
    "            winner = \"Li\" \n",
    "        else:\n",
    "            winner = \"O'Tooley\"\n",
    "    \n",
    "    \n",
    "    return(totalVotes, totalVotesKhan, totalVotesCorrey, totalVotesLi, totalVotesTooley, winner)"
   ]
  },
  {
   "cell_type": "markdown",
   "metadata": {},
   "source": [
    "<font color = green>  printerWriter function - </font>\n",
    "\n",
    "<font color = red> The function of the printerWriter is to intake all the parameters from voteCounter </font>\n",
    "\n",
    "\n",
    "##### and it will write it to the outputToConsole in an \"f\" string\n",
    "     we will then use the f.write to have it write to the console. \n",
    "     We will finish with the storyPrint function to have the outputToConsole as its parameter"
   ]
  },
  {
   "cell_type": "code",
   "execution_count": 3,
   "metadata": {},
   "outputs": [],
   "source": [
    "def printerWriter(totalVotes, totalVotesKhan, totalVotesCorrey, totalVotesLi, totalVotesTooley, winner, inputPath):\n",
    "    f = open('election_data_.txt', 'w')\n",
    "\n",
    "    \n",
    "    pKhan = totalVotesKhan / totalVotes\n",
    "    pCorrey =  totalVotesCorrey / totalVotes\n",
    "    pLi = totalVotesLi / totalVotes\n",
    "    pTool = totalVotesTooley / totalVotes\n",
    "    \n",
    "    outputToConsole = f\"\"\"\n",
    "       Election Results\n",
    "----------------------------------\n",
    "Total Votes:   {totalVotes:,}\n",
    "----------------------------------\n",
    "Khan: {pKhan:.3f}%  {totalVotesKhan:,}\n",
    "Correy: {pCorrey:.3f}%  {totalVotesCorrey:,}\n",
    "Li: {pLi:.3f}%  {totalVotesLi:,}\n",
    "O'Tooley': {pTool:.3f}%  {totalVotesTooley:,}\n",
    "----------------------------------\n",
    "        Winner: {winner}\n",
    "----------------------------------\n",
    "\"\"\"\n",
    "\n",
    "    f.write(outputToConsole)\n",
    "    storyPrint(outputToConsole, .075)\n",
    "    f.close()"
   ]
  },
  {
   "cell_type": "code",
   "execution_count": 4,
   "metadata": {},
   "outputs": [],
   "source": [
    "def main():\n",
    "    inputPath = os.path.join('Resources', 'election_data.csv')\n",
    "\n",
    "    totalVotes, totalVotesKhan, totalVotesCorrey, totalVotesLi, totalVotesTooley, winner = votesCounter(inputPath)\n",
    "    printerWriter(totalVotes, totalVotesKhan, totalVotesCorrey, totalVotesLi, totalVotesTooley, winner, inputPath)\n",
    "    try:\n",
    "        os.remove( './election_Data_Totals.txt')\n",
    "        a = 'Output File already exists. Deleting...'\n",
    "        storyPrint(a, .075)\n",
    "    except OSError:\n",
    "        b = 'Creating File Python_Write_File.txt...'\n",
    "        storyPrint(b, .075)\n",
    "        pass"
   ]
  },
  {
   "cell_type": "markdown",
   "metadata": {},
   "source": [
    "This function serves as an extra, do not worry about it too much. If you're looking at it and trying to understand. \n",
    "It is running a function called storyPrint with two parameters that are required to intake, the text itself, and the timer."
   ]
  },
  {
   "cell_type": "code",
   "execution_count": 5,
   "metadata": {},
   "outputs": [],
   "source": [
    "def storyPrint(text, timer):\n",
    "    for letter in text:\n",
    "        sys.stdout.write(letter)\n",
    "        sys.stdout.flush()\n",
    "        time.sleep(timer)\n",
    "    print(\"\\n\")\n"
   ]
  },
  {
   "cell_type": "code",
   "execution_count": null,
   "metadata": {},
   "outputs": [],
   "source": []
  },
  {
   "cell_type": "code",
   "execution_count": 6,
   "metadata": {},
   "outputs": [
    {
     "name": "stdout",
     "output_type": "stream",
     "text": [
      "\n",
      "       Election Results\n",
      "----------------------------------\n",
      "Total Votes:   3,521,001\n",
      "----------------------------------\n",
      "Khan: 0.630%  2,218,231\n",
      "Correy: 0.200%  704,200\n",
      "Li: 0.140%  492,940\n",
      "O'Tooley': 0.030%  105,630\n",
      "----------------------------------\n",
      "        Winner: Khan\n",
      "----------------------------------\n",
      "\n",
      "\n",
      "Creating File Python_Write_File.txt...\n",
      "\n"
     ]
    }
   ],
   "source": [
    "main()"
   ]
  },
  {
   "cell_type": "code",
   "execution_count": null,
   "metadata": {},
   "outputs": [],
   "source": []
  }
 ],
 "metadata": {
  "celltoolbar": "Edit Metadata",
  "kernelspec": {
   "display_name": "Python 3",
   "language": "python",
   "name": "python3"
  },
  "language_info": {
   "codemirror_mode": {
    "name": "ipython",
    "version": 3
   },
   "file_extension": ".py",
   "mimetype": "text/x-python",
   "name": "python",
   "nbconvert_exporter": "python",
   "pygments_lexer": "ipython3",
   "version": "3.7.6"
  }
 },
 "nbformat": 4,
 "nbformat_minor": 4
}
