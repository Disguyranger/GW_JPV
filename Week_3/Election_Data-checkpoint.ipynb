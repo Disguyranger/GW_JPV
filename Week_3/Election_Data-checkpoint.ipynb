{
 "cells": [
  {
   "cell_type": "markdown",
   "metadata": {},
   "source": [
    "This is for the homework. \n",
    "Inside the python-challenge folder"
   ]
  },
  {
   "cell_type": "code",
   "execution_count": 13,
   "metadata": {},
   "outputs": [],
   "source": [
    "\n",
    "\"\"\"\n",
    "Created on Fri Apr 10 01:19:04 2020\n",
    "\n",
    "@author: disguy\n",
    "\"\"\"\n",
    "import time, sys, os"
   ]
  },
  {
   "cell_type": "markdown",
   "metadata": {},
   "source": [
    "<font color = green> The function greatestGainAndLoss will take in inputPath as its parameter \n",
    "    ('Resources', 'budget_data.csv')</font>\n",
    "    \n",
    "<font color = blue>Using variables/dictionaries to keep information as needed.</font>\n",
    "\n",
    "Use with statement to open file as (f),skip first iteration with next statement.\n",
    "\n",
    "Use for loop that scans the entirety of the file (f, should be on row 2, since we skipped first iteration.)\n",
    "\n",
    "Add to the totalMonths, then run the split function, splitting at the comma.\n",
    "\n",
    "Check to see if previousRow has a value, if not, make it have a value, then skip the rest of the code."
   ]
  },
  {
   "cell_type": "code",
   "execution_count": 19,
   "metadata": {},
   "outputs": [],
   "source": [
    "def greatestGainAndLoss(inputPath):\n",
    "    previousRow = None \n",
    "    currentRow = None\n",
    "    greatestGain = {\"value\": 0, \"date\": \"\"}\n",
    "    greatestLoss = {\"value\": 0, \"date\": \"\"}\n",
    "    totalMonths = 0\n",
    "    totalProfits = 0\n",
    "    totalChange = 0\n",
    "    with open(inputPath, 'r') as f:\n",
    "        next(f)                         #skips first f, so that we don't have to look at the header line. i.e. Start at Row 2\n",
    "        \n",
    "        for row in f:                   #What this is going to do is go through each f, starting at row 2.\n",
    "            totalMonths += 1            #Will add 1 to totalMonths\n",
    "            row = row.split(',')        #Splits at each ','\n",
    "            totalProfits += int(row[1]) #totalProfits will increase by whatever int is in row[1] totalProfits = totalProfits + int(row[1])\n",
    "            if previousRow is None:     #Only executes on the first run of the for loop, since our previousRow will be 'None'\n",
    "                previousRow = row       #Gives previousRow the assignment of whatever is in that row.\n",
    "                continue                #No other code will execute. Will go to the next for loop.\n",
    "                                             #Remember, the if statement will not execute after the first iteration of row.\n",
    "            currentRow = row            #Takes the value of whatever is in the current 'row' and gives assigns it the var currentRow\n",
    "    \n",
    "    \n",
    "            currentDelta = int(currentRow[1]) - int(previousRow[1])         #subtracts values in row[1] for currentRow and previousRow\n",
    "            totalChange += currentDelta                                     #Appends the totalChange with the currentDelta\n",
    "    \n",
    "            if currentDelta < 0 and currentDelta < greatestLoss[\"value\"]:   #Checks to see if value is less than 0 and less than current greatestLoss['value']\n",
    "                greatestLoss[\"value\"] = currentDelta                        #changes value to new greatestLoss\n",
    "                greatestLoss[\"date\"] = currentRow[0]                        #changes value to the row[0] to reflect date\n",
    "            elif currentDelta > 0 and currentDelta > greatestGain[\"value\"]: #Checks to see if value is greater than 0 and less than current greatestGain['value']\n",
    "                greatestGain[\"value\"] = currentDelta                        #changes value to new greatestGain\n",
    "                greatestGain[\"date\"] = currentRow[0]                        #Changes value to the row[0] to reflect date\n",
    "\n",
    "            previousRow = currentRow    #last thing that the for loop accomplishes is changing the value of the previousRow to the currentRow\n",
    "    \n",
    "    return(greatestLoss, greatestGain, totalMonths, totalProfits, totalChange/(totalMonths - 1)) #After every loop has run, will return all the data \n"
   ]
  },
  {
   "cell_type": "markdown",
   "metadata": {},
   "source": [
    "# printerWriter function - \n",
    "##### The function of the printerWriter is to intake all the parameters from greatestGainAndLoss\n",
    "##### and it will write it to the outputToConsole in an \"f\" string\n",
    "     we will then use the f.write to have it write to the console. \n",
    "     We will finish with the storyPrint function to have the outputToConsole as its parameter"
   ]
  },
  {
   "cell_type": "code",
   "execution_count": 20,
   "metadata": {},
   "outputs": [],
   "source": [
    "def printerWriter(grtLoss, grtGain, totalMonths, totalProfits, averageChange, inputPath):\n",
    "    f = open('Python_Write_File.txt', 'w')\n",
    "\n",
    "    outputToConsole = f\"\"\"\n",
    "       Financial Analysis\n",
    "----------------------------------\n",
    "Total Months:   {totalMonths}\n",
    "Total:   $ {totalProfits:,}\n",
    "Average Change:   $ {averageChange:,.2f}\n",
    "Greatest Increase in Profits: {grtGain['date']} $ {grtGain['value']:,.2f}\n",
    "Greatest Decrease in Profits: {grtLoss['date']} ($ {grtLoss['value']:,.2f})\n",
    "\"\"\"\n",
    "    f.write(outputToConsole)\n",
    "    storyPrint(outputToConsole, .075)"
   ]
  },
  {
   "cell_type": "code",
   "execution_count": 21,
   "metadata": {},
   "outputs": [],
   "source": [
    "def main():\n",
    "\n",
    "    try:\n",
    "        os.remove('./Budget_Data_Totals.txt')\n",
    "        a = 'Output File already exists. Deleting...'\n",
    "        storyPrint(a, .0625)\n",
    "    except OSError:\n",
    "        b = 'Creating File Python_Write_File.txt...'\n",
    "        storyPrint(b, .0625)\n",
    "        pass\n",
    "    \n",
    "    inputPath = os.path.join('Resources', 'budget_data.csv')\n",
    "    \n",
    "    grtLoss, grtGain, totalMonths, totalProfits, averageChange = greatestGainAndLoss(inputPath)\n",
    "    printerWriter(grtLoss, grtGain, totalMonths, totalProfits, averageChange, inputPath)\n",
    "        \n"
   ]
  },
  {
   "cell_type": "markdown",
   "metadata": {},
   "source": [
    "This function serves as an extra, do not worry about it too much. If you're looking at it and trying to understand. \n",
    "It is running a function called storyPrint with two parameters that are required to intake, the text itself, and the timer."
   ]
  },
  {
   "cell_type": "code",
   "execution_count": 17,
   "metadata": {},
   "outputs": [],
   "source": [
    "def storyPrint(text, timer):\n",
    "    for letter in text:\n",
    "        sys.stdout.write(letter)\n",
    "        sys.stdout.flush()\n",
    "        time.sleep(timer)\n",
    "    print(\"\\n\")\n"
   ]
  },
  {
   "cell_type": "code",
   "execution_count": null,
   "metadata": {},
   "outputs": [],
   "source": []
  },
  {
   "cell_type": "code",
   "execution_count": 18,
   "metadata": {},
   "outputs": [
    {
     "name": "stdout",
     "output_type": "stream",
     "text": [
      "Creating File Python_Write_File.txt...\n",
      "\n"
     ]
    },
    {
     "ename": "FileNotFoundError",
     "evalue": "[Errno 2] No such file or directory: 'Resources\\\\budget_data.csv'",
     "output_type": "error",
     "traceback": [
      "\u001b[1;31m---------------------------------------------------------------------------\u001b[0m",
      "\u001b[1;31mFileNotFoundError\u001b[0m                         Traceback (most recent call last)",
      "\u001b[1;32m<ipython-input-18-263240bbee7e>\u001b[0m in \u001b[0;36m<module>\u001b[1;34m\u001b[0m\n\u001b[1;32m----> 1\u001b[1;33m \u001b[0mmain\u001b[0m\u001b[1;33m(\u001b[0m\u001b[1;33m)\u001b[0m\u001b[1;33m\u001b[0m\u001b[1;33m\u001b[0m\u001b[0m\n\u001b[0m",
      "\u001b[1;32m<ipython-input-16-9ed546ad9231>\u001b[0m in \u001b[0;36mmain\u001b[1;34m()\u001b[0m\n\u001b[0;32m     12\u001b[0m     \u001b[0minputPath\u001b[0m \u001b[1;33m=\u001b[0m \u001b[0mos\u001b[0m\u001b[1;33m.\u001b[0m\u001b[0mpath\u001b[0m\u001b[1;33m.\u001b[0m\u001b[0mjoin\u001b[0m\u001b[1;33m(\u001b[0m\u001b[1;34m'Resources'\u001b[0m\u001b[1;33m,\u001b[0m \u001b[1;34m'budget_data.csv'\u001b[0m\u001b[1;33m)\u001b[0m\u001b[1;33m\u001b[0m\u001b[1;33m\u001b[0m\u001b[0m\n\u001b[0;32m     13\u001b[0m \u001b[1;33m\u001b[0m\u001b[0m\n\u001b[1;32m---> 14\u001b[1;33m     \u001b[0mgrtLoss\u001b[0m\u001b[1;33m,\u001b[0m \u001b[0mgrtGain\u001b[0m\u001b[1;33m,\u001b[0m \u001b[0mtotalMonths\u001b[0m\u001b[1;33m,\u001b[0m \u001b[0mtotalProfits\u001b[0m\u001b[1;33m,\u001b[0m \u001b[0maverageChange\u001b[0m \u001b[1;33m=\u001b[0m \u001b[0mgreatestGainAndLoss\u001b[0m\u001b[1;33m(\u001b[0m\u001b[0minputPath\u001b[0m\u001b[1;33m)\u001b[0m\u001b[1;33m\u001b[0m\u001b[1;33m\u001b[0m\u001b[0m\n\u001b[0m\u001b[0;32m     15\u001b[0m     \u001b[0mprinterWriter\u001b[0m\u001b[1;33m(\u001b[0m\u001b[0mgrtLoss\u001b[0m\u001b[1;33m,\u001b[0m \u001b[0mgrtGain\u001b[0m\u001b[1;33m,\u001b[0m \u001b[0mtotalMonths\u001b[0m\u001b[1;33m,\u001b[0m \u001b[0mtotalProfits\u001b[0m\u001b[1;33m,\u001b[0m \u001b[0maverageChange\u001b[0m\u001b[1;33m,\u001b[0m \u001b[0minputPath\u001b[0m\u001b[1;33m)\u001b[0m\u001b[1;33m\u001b[0m\u001b[1;33m\u001b[0m\u001b[0m\n\u001b[0;32m     16\u001b[0m \u001b[1;33m\u001b[0m\u001b[0m\n",
      "\u001b[1;32m<ipython-input-14-708fdf52dee8>\u001b[0m in \u001b[0;36mgreatestGainAndLoss\u001b[1;34m(inputPath)\u001b[0m\n\u001b[0;32m      7\u001b[0m     \u001b[0mtotalProfits\u001b[0m \u001b[1;33m=\u001b[0m \u001b[1;36m0\u001b[0m\u001b[1;33m\u001b[0m\u001b[1;33m\u001b[0m\u001b[0m\n\u001b[0;32m      8\u001b[0m     \u001b[0mtotalChange\u001b[0m \u001b[1;33m=\u001b[0m \u001b[1;36m0\u001b[0m\u001b[1;33m\u001b[0m\u001b[1;33m\u001b[0m\u001b[0m\n\u001b[1;32m----> 9\u001b[1;33m     \u001b[1;32mwith\u001b[0m \u001b[0mopen\u001b[0m\u001b[1;33m(\u001b[0m\u001b[0minputPath\u001b[0m\u001b[1;33m,\u001b[0m \u001b[1;34m'r'\u001b[0m\u001b[1;33m)\u001b[0m \u001b[1;32mas\u001b[0m \u001b[0mf\u001b[0m\u001b[1;33m:\u001b[0m\u001b[1;33m\u001b[0m\u001b[1;33m\u001b[0m\u001b[0m\n\u001b[0m\u001b[0;32m     10\u001b[0m         \u001b[0mnext\u001b[0m\u001b[1;33m(\u001b[0m\u001b[0mf\u001b[0m\u001b[1;33m)\u001b[0m                         \u001b[1;31m#skips first f, so that we don't have to look at the header line. i.e. Start at Row 2\u001b[0m\u001b[1;33m\u001b[0m\u001b[1;33m\u001b[0m\u001b[0m\n\u001b[0;32m     11\u001b[0m \u001b[1;33m\u001b[0m\u001b[0m\n",
      "\u001b[1;31mFileNotFoundError\u001b[0m: [Errno 2] No such file or directory: 'Resources\\\\budget_data.csv'"
     ]
    }
   ],
   "source": [
    "main()"
   ]
  },
  {
   "cell_type": "code",
   "execution_count": null,
   "metadata": {},
   "outputs": [],
   "source": []
  }
 ],
 "metadata": {
  "celltoolbar": "Edit Metadata",
  "kernelspec": {
   "display_name": "Python 3",
   "language": "python",
   "name": "python3"
  },
  "language_info": {
   "codemirror_mode": {
    "name": "ipython",
    "version": 3
   },
   "file_extension": ".py",
   "mimetype": "text/x-python",
   "name": "python",
   "nbconvert_exporter": "python",
   "pygments_lexer": "ipython3",
   "version": "3.7.6"
  }
 },
 "nbformat": 4,
 "nbformat_minor": 4
}
