{
 "cells": [
  {
   "cell_type": "code",
   "execution_count": null,
   "metadata": {},
   "outputs": [],
   "source": [
    "# Import Dependencies\n",
    "import pandas as pd"
   ]
  },
  {
   "cell_type": "code",
   "execution_count": null,
   "metadata": {
    "scrolled": true
   },
   "outputs": [],
   "source": [
    "# File to Load\n",
    "fileOne = \"Resources/books_clean.csv\"\n",
    "# Read the modified GoodReads csv and store into Pandas DataFrame\n",
    "fileOneDF = pd.read_csv(fileOne)\n",
    "# Hint: Build a DataFrame. You may need to use utf-8 encoding (encoding=\"utf-8\")\n"
   ]
  },
  {
   "cell_type": "code",
   "execution_count": null,
   "metadata": {},
   "outputs": [],
   "source": [
    "# Calculate the number of unique authors in the DataFrame\n",
    "fileOneDF[\"Authors\"].value_counts()\n",
    "# Calculate the earliest and latest year a book was published\n",
    "x = fileOneDF['Publication Year'].min()\n",
    "y = fileOneDF['Publication Year'].max()\n",
    "print(f\" the earliest release is {x}, latest is {y}\")\n",
    "# Calculate the total reviews column that contains the sum of reviews for each row\n",
    "\n",
    "# Hint: use the pandas' sum(axis='columns') to get the sum across the columns \n"
   ]
  },
  {
   "cell_type": "code",
   "execution_count": null,
   "metadata": {},
   "outputs": [],
   "source": [
    "fileOneDF['Total Reviews'] = fileOneDF.sum(axis = 1, skipna = True) \n",
    "print(fileOneDF['Total Reviews'])\n",
    "\n"
   ]
  },
  {
   "cell_type": "code",
   "execution_count": null,
   "metadata": {},
   "outputs": [],
   "source": [
    "# Place all of the data found into a summary DataFrame\n",
    "fileOneDF\n",
    "# Display the summary data frame\n"
   ]
  },
  {
   "cell_type": "code",
   "execution_count": null,
   "metadata": {},
   "outputs": [],
   "source": [
    "fileOneDF['Unique Authors', x, y, 'Total Reviews']"
   ]
  },
  {
   "cell_type": "code",
   "execution_count": null,
   "metadata": {},
   "outputs": [],
   "source": []
  }
 ],
 "metadata": {
  "kernelspec": {
   "display_name": "Python 3",
   "language": "python",
   "name": "python3"
  },
  "language_info": {
   "codemirror_mode": {
    "name": "ipython",
    "version": 3
   },
   "file_extension": ".py",
   "mimetype": "text/x-python",
   "name": "python",
   "nbconvert_exporter": "python",
   "pygments_lexer": "ipython3",
   "version": "3.7.6"
  }
 },
 "nbformat": 4,
 "nbformat_minor": 2
}
