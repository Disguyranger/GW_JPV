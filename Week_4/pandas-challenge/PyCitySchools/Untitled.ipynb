{
 "cells": [
  {
   "cell_type": "code",
   "execution_count": 11,
   "metadata": {},
   "outputs": [],
   "source": [
    "#Dependencies and Setup\n",
    "import pandas as pd\n",
    "import os, csv"
   ]
  },
  {
   "cell_type": "code",
   "execution_count": 12,
   "metadata": {},
   "outputs": [],
   "source": [
    "#File to load up       #Read school and student data\n",
    "school_data = os.path.join(\"Resources\", \"schools_complete.csv\") #Make sure your location is set correctly.\n",
    "student_data = os.path.join(\"Resources\", \"students_complete.csv\") #Again, make sure location is set correctly."
   ]
  },
  {
   "cell_type": "code",
   "execution_count": 13,
   "metadata": {},
   "outputs": [],
   "source": [
    "#Set the school/student data files to be stored in Panda Data Frames\n",
    "school_data = pd.read_csv(school_data)\n",
    "student_data = pd.read_csv(student_data)"
   ]
  },
  {
   "cell_type": "code",
   "execution_count": 20,
   "metadata": {},
   "outputs": [],
   "source": [
    "#Combine all data into a single dataFrame using the left join option. \n",
    "collected_data = pd.merge(student_data,school_data, how='left')"
   ]
  },
  {
   "cell_type": "code",
   "execution_count": 78,
   "metadata": {},
   "outputs": [],
   "source": [
    "#Cleaning Data\n",
    "collected_data = collected_data.rename(columns = {'school_name' : 'School Name', 'student_name' : \"Student Name\",\n",
    "                                 \"reading_score\" : \"Reading Score\", 'math_score' : \"Math Score\" , \"budget\" : \"Budget\"})"
   ]
  },
  {
   "cell_type": "code",
   "execution_count": 79,
   "metadata": {},
   "outputs": [
    {
     "data": {
      "text/html": [
       "<div>\n",
       "<style scoped>\n",
       "    .dataframe tbody tr th:only-of-type {\n",
       "        vertical-align: middle;\n",
       "    }\n",
       "\n",
       "    .dataframe tbody tr th {\n",
       "        vertical-align: top;\n",
       "    }\n",
       "\n",
       "    .dataframe thead th {\n",
       "        text-align: right;\n",
       "    }\n",
       "</style>\n",
       "<table border=\"1\" class=\"dataframe\">\n",
       "  <thead>\n",
       "    <tr style=\"text-align: right;\">\n",
       "      <th></th>\n",
       "      <th>School Name</th>\n",
       "      <th>Student ID</th>\n",
       "      <th>Student Name</th>\n",
       "      <th>gender</th>\n",
       "      <th>grade</th>\n",
       "      <th>Reading Score</th>\n",
       "      <th>Math Score</th>\n",
       "      <th>School ID</th>\n",
       "      <th>type</th>\n",
       "      <th>size</th>\n",
       "      <th>Budget</th>\n",
       "    </tr>\n",
       "  </thead>\n",
       "  <tbody>\n",
       "    <tr>\n",
       "      <th>0</th>\n",
       "      <td>Bailey High School</td>\n",
       "      <td>4976</td>\n",
       "      <td>4976</td>\n",
       "      <td>4976</td>\n",
       "      <td>4976</td>\n",
       "      <td>4976</td>\n",
       "      <td>4976</td>\n",
       "      <td>4976</td>\n",
       "      <td>4976</td>\n",
       "      <td>4976</td>\n",
       "      <td>4976</td>\n",
       "    </tr>\n",
       "    <tr>\n",
       "      <th>1</th>\n",
       "      <td>Cabrera High School</td>\n",
       "      <td>1858</td>\n",
       "      <td>1858</td>\n",
       "      <td>1858</td>\n",
       "      <td>1858</td>\n",
       "      <td>1858</td>\n",
       "      <td>1858</td>\n",
       "      <td>1858</td>\n",
       "      <td>1858</td>\n",
       "      <td>1858</td>\n",
       "      <td>1858</td>\n",
       "    </tr>\n",
       "    <tr>\n",
       "      <th>2</th>\n",
       "      <td>Figueroa High School</td>\n",
       "      <td>2949</td>\n",
       "      <td>2949</td>\n",
       "      <td>2949</td>\n",
       "      <td>2949</td>\n",
       "      <td>2949</td>\n",
       "      <td>2949</td>\n",
       "      <td>2949</td>\n",
       "      <td>2949</td>\n",
       "      <td>2949</td>\n",
       "      <td>2949</td>\n",
       "    </tr>\n",
       "    <tr>\n",
       "      <th>3</th>\n",
       "      <td>Ford High School</td>\n",
       "      <td>2739</td>\n",
       "      <td>2739</td>\n",
       "      <td>2739</td>\n",
       "      <td>2739</td>\n",
       "      <td>2739</td>\n",
       "      <td>2739</td>\n",
       "      <td>2739</td>\n",
       "      <td>2739</td>\n",
       "      <td>2739</td>\n",
       "      <td>2739</td>\n",
       "    </tr>\n",
       "    <tr>\n",
       "      <th>4</th>\n",
       "      <td>Griffin High School</td>\n",
       "      <td>1468</td>\n",
       "      <td>1468</td>\n",
       "      <td>1468</td>\n",
       "      <td>1468</td>\n",
       "      <td>1468</td>\n",
       "      <td>1468</td>\n",
       "      <td>1468</td>\n",
       "      <td>1468</td>\n",
       "      <td>1468</td>\n",
       "      <td>1468</td>\n",
       "    </tr>\n",
       "  </tbody>\n",
       "</table>\n",
       "</div>"
      ],
      "text/plain": [
       "            School Name  Student ID  Student Name  gender  grade  \\\n",
       "0    Bailey High School        4976          4976    4976   4976   \n",
       "1   Cabrera High School        1858          1858    1858   1858   \n",
       "2  Figueroa High School        2949          2949    2949   2949   \n",
       "3      Ford High School        2739          2739    2739   2739   \n",
       "4   Griffin High School        1468          1468    1468   1468   \n",
       "\n",
       "   Reading Score  Math Score  School ID  type  size  Budget  \n",
       "0           4976        4976       4976  4976  4976    4976  \n",
       "1           1858        1858       1858  1858  1858    1858  \n",
       "2           2949        2949       2949  2949  2949    2949  \n",
       "3           2739        2739       2739  2739  2739    2739  \n",
       "4           1468        1468       1468  1468  1468    1468  "
      ]
     },
     "execution_count": 79,
     "metadata": {},
     "output_type": "execute_result"
    }
   ],
   "source": [
    "#Getting the data combined\n",
    "collected_data_group = collected_data.groupby(['School Name'])\n",
    "collected_data_group.count().head().reset_index()"
   ]
  },
  {
   "cell_type": "code",
   "execution_count": 80,
   "metadata": {},
   "outputs": [
    {
     "data": {
      "text/plain": [
       "School Name\n",
       "Bailey High School       4976\n",
       "Cabrera High School      1858\n",
       "Figueroa High School     2949\n",
       "Ford High School         2739\n",
       "Griffin High School      1468\n",
       "Hernandez High School    4635\n",
       "Holden High School        427\n",
       "Huang High School        2917\n",
       "Johnson High School      4761\n",
       "Pena High School          962\n",
       "Rodriguez High School    3999\n",
       "Shelton High School      1761\n",
       "Thomas High School       1635\n",
       "Wilson High School       2283\n",
       "Wright High School       1800\n",
       "Name: School Name, dtype: int64"
      ]
     },
     "execution_count": 80,
     "metadata": {},
     "output_type": "execute_result"
    }
   ],
   "source": [
    "#Calculate the totals (Schools and Students) \n",
    "collected_data_group['School Name'].count()"
   ]
  },
  {
   "cell_type": "code",
   "execution_count": 81,
   "metadata": {},
   "outputs": [
    {
     "data": {
      "text/plain": [
       "School Name\n",
       "Bailey High School       15549641728\n",
       "Cabrera High School       2009159448\n",
       "Figueroa High School      5557128039\n",
       "Ford High School          4831365924\n",
       "Griffin High School       1346890000\n",
       "Hernandez High School    14007062700\n",
       "Holden High School         105933149\n",
       "Huang High School         5573322295\n",
       "Johnson High School      14733628650\n",
       "Pena High School           563595396\n",
       "Rodriguez High School    10186904637\n",
       "Shelton High School       1860672600\n",
       "Thomas High School        1705517550\n",
       "Wilson High School        3012587442\n",
       "Wright High School        1888920000\n",
       "Name: Budget, dtype: int64"
      ]
     },
     "execution_count": 81,
     "metadata": {},
     "output_type": "execute_result"
    }
   ],
   "source": [
    "#Calculate budget Total\n",
    "all_totals_schools = collected_data.groupby(['School Name']).sum()\n",
    "all_totals_schools['Budget']"
   ]
  },
  {
   "cell_type": "code",
   "execution_count": 82,
   "metadata": {},
   "outputs": [
    {
     "name": "stdout",
     "output_type": "stream",
     "text": [
      "The average score of Reading per school:\n"
     ]
    },
    {
     "data": {
      "text/plain": [
       "School Name\n",
       "Rodriguez High School    80.744686\n",
       "Ford High School         80.746258\n",
       "Hernandez High School    80.934412\n",
       "Johnson High School      80.966394\n",
       "Bailey High School       81.033963\n",
       "Figueroa High School     81.158020\n",
       "Huang High School        81.182722\n",
       "Shelton High School      83.725724\n",
       "Holden High School       83.814988\n",
       "Griffin High School      83.816757\n",
       "Thomas High School       83.848930\n",
       "Wright High School       83.955000\n",
       "Cabrera High School      83.975780\n",
       "Wilson High School       83.989488\n",
       "Pena High School         84.044699\n",
       "Name: Reading Score, dtype: float64"
      ]
     },
     "execution_count": 82,
     "metadata": {},
     "output_type": "execute_result"
    }
   ],
   "source": [
    "#Calculate Average Scores\n",
    "average_total_reading = collected_data_group['Reading Score'].mean()\n",
    "print('The average score of Reading per school:')\n",
    "average_total_reading.sort_values()"
   ]
  },
  {
   "cell_type": "code",
   "execution_count": 83,
   "metadata": {},
   "outputs": [
    {
     "name": "stdout",
     "output_type": "stream",
     "text": [
      "The average score of Math per school:\n"
     ]
    },
    {
     "data": {
      "text/plain": [
       "School Name\n",
       "Huang High School        76.629414\n",
       "Figueroa High School     76.711767\n",
       "Rodriguez High School    76.842711\n",
       "Bailey High School       77.048432\n",
       "Johnson High School      77.072464\n",
       "Ford High School         77.102592\n",
       "Hernandez High School    77.289752\n",
       "Cabrera High School      83.061895\n",
       "Wilson High School       83.274201\n",
       "Griffin High School      83.351499\n",
       "Shelton High School      83.359455\n",
       "Thomas High School       83.418349\n",
       "Wright High School       83.682222\n",
       "Holden High School       83.803279\n",
       "Pena High School         83.839917\n",
       "Name: Math Score, dtype: float64"
      ]
     },
     "execution_count": 83,
     "metadata": {},
     "output_type": "execute_result"
    }
   ],
   "source": [
    "#Still average scores\n",
    "average_total_math = collected_data_group['Math Score'].mean()\n",
    "print('The average score of Math per school:')\n",
    "average_total_math.sort_values()"
   ]
  },
  {
   "cell_type": "code",
   "execution_count": null,
   "metadata": {},
   "outputs": [],
   "source": [
    "#Percentage Pass Rate:\n",
    "percentage_pass_rate = "
   ]
  }
 ],
 "metadata": {
  "kernelspec": {
   "display_name": "Python 3",
   "language": "python",
   "name": "python3"
  },
  "language_info": {
   "codemirror_mode": {
    "name": "ipython",
    "version": 3
   },
   "file_extension": ".py",
   "mimetype": "text/x-python",
   "name": "python",
   "nbconvert_exporter": "python",
   "pygments_lexer": "ipython3",
   "version": "3.7.6"
  }
 },
 "nbformat": 4,
 "nbformat_minor": 4
}
