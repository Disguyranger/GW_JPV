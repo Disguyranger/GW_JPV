{
 "cells": [
  {
   "cell_type": "code",
   "execution_count": 1,
   "metadata": {},
   "outputs": [],
   "source": [
    "%matplotlib notebook"
   ]
  },
  {
   "cell_type": "code",
   "execution_count": 2,
   "metadata": {},
   "outputs": [],
   "source": [
    "import matplotlib.pyplot as plt\n",
    "import numpy as np\n",
    "import pandas as pd\n",
    "import tkinter as tk\n",
    "from scipy.stats import linregress\n",
    "import requests, json, datetime, time"
   ]
  },
  {
   "cell_type": "code",
   "execution_count": 5,
   "metadata": {},
   "outputs": [
    {
     "name": "stdout",
     "output_type": "stream",
     "text": [
      "Right now, I'm working on getting this part working.\n",
      "What I'd like to do is get a loop rolling that checks for errors. Let's see how it goes.\n",
      "What coin are you searching for? \n",
      " Here is a quick list in case you find yourself in a bind\n",
      "[1] for Bitcoin (BTC), [2] for Litecoin (LTC), [3] Ethereum (ETH)1\n"
     ]
    }
   ],
   "source": [
    "print(\"Right now, I'm working on getting this part working.\")\n",
    "print(\"What I'd like to do is get a loop rolling that checks for errors. Let's see how it goes.\")\n",
    "\n",
    "coin_type = input(\"\"\"What coin are you searching for? \\n Here is a quick list in case you find yourself in a bind\n",
    "[1] for Bitcoin (BTC), [2] for Litecoin (LTC), [3] Ethereum (ETH)\"\"\")\n",
    "if coin_type == '1':\n",
    "    coin_type = 'bitcoin'\n",
    "elif coin_type == \"2\":\n",
    "    coin_type = 'litecoin'\n",
    "elif coin_type == '3':\n",
    "    coin_type = 'ethereum'\n",
    "    \n",
    "    \n",
    "    "
   ]
  },
  {
   "cell_type": "code",
   "execution_count": 4,
   "metadata": {},
   "outputs": [
    {
     "name": "stdout",
     "output_type": "stream",
     "text": [
      "What coin are you searching for: Bitcoin\n",
      "What Currency type are you looking for: usd\n",
      "How far back would you like to look (in days format): 10\n"
     ]
    }
   ],
   "source": [
    "try:\n",
    "    coin_type = input(\"What coin are you searching for: \").lower()\n",
    "    currency_type = input(\"What Currency type are you looking for: \")\n",
    "    time_frame = int(input(\"How far back would you like to look (in days format): \"))\n",
    "except ValueError:\n",
    "    print('Mistakes were made. Please select from the approved list.')\n"
   ]
  },
  {
   "cell_type": "code",
   "execution_count": null,
   "metadata": {},
   "outputs": [],
   "source": [
    "url = f'https://api.coingecko.com/api/v3/coins/{coin_type}/market_chart?vs_currency={currency_type}&days={time_frame}'\n",
    "response = requests.get(url)\n",
    "print(url)"
   ]
  },
  {
   "cell_type": "code",
   "execution_count": null,
   "metadata": {},
   "outputs": [],
   "source": [
    "data_construct = response.json()\n",
    "if data_construct == {\"error\":\"Could not find coin with the given id\"}:\n",
    "    print(\"You goofed.\")"
   ]
  },
  {
   "cell_type": "code",
   "execution_count": null,
   "metadata": {},
   "outputs": [],
   "source": [
    "date_time = []\n",
    "value = []\n",
    "\n",
    "for row in data_construct['prices']:\n",
    "    date_time.append(datetime.datetime.utcfromtimestamp(row[0]/1000))\n",
    "    value.append(row[1])\n",
    "    "
   ]
  },
  {
   "cell_type": "code",
   "execution_count": null,
   "metadata": {},
   "outputs": [],
   "source": []
  },
  {
   "cell_type": "code",
   "execution_count": null,
   "metadata": {
    "scrolled": false
   },
   "outputs": [],
   "source": [
    "plt.figure(figsize=(9,5))\n",
    "plt.xticks(rotation = 30)\n",
    "plt.grid()\n",
    "plt.tight_layout(rect=[0, 0.03, 1, 0.95])\n",
    "plt.plot(date_time, value, \"-.\", color = 'purple')\n",
    "plt.title(f\"Bitcoin price over {time_frame} days\")\n",
    "plt.xlabel('Date')\n",
    "plt.ylabel('Price per Coin')\n",
    "\n"
   ]
  },
  {
   "cell_type": "code",
   "execution_count": null,
   "metadata": {},
   "outputs": [],
   "source": [
    "#Use this when presenting the data: \n",
    "\n"
   ]
  }
 ],
 "metadata": {
  "kernelspec": {
   "display_name": "Python 3",
   "language": "python",
   "name": "python3"
  },
  "language_info": {
   "codemirror_mode": {
    "name": "ipython",
    "version": 3
   },
   "file_extension": ".py",
   "mimetype": "text/x-python",
   "name": "python",
   "nbconvert_exporter": "python",
   "pygments_lexer": "ipython3",
   "version": "3.7.6"
  }
 },
 "nbformat": 4,
 "nbformat_minor": 4
}
